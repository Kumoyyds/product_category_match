{
 "cells": [
  {
   "cell_type": "code",
   "execution_count": 26,
   "id": "b9aa69a6",
   "metadata": {},
   "outputs": [],
   "source": [
    "import pandas as pd\n",
    "import math\n",
    "from sentence_transformers import SentenceTransformer\n",
    "import concurrent.futures\n",
    "from tqdm import tqdm\n",
    "import heapq\n",
    "import numpy as np\n",
    "import joblib, pickle\n",
    "import copy\n",
    "import os\n",
    "from openai import OpenAI\n",
    "\n",
    "from dotenv import load_dotenv\n",
    "\n",
    "import os\n",
    "import json\n",
    "from pathlib import Path"
   ]
  },
  {
   "cell_type": "code",
   "execution_count": 1,
   "id": "105b5c61",
   "metadata": {},
   "outputs": [
    {
     "name": "stderr",
     "output_type": "stream",
     "text": [
      "e:\\programming\\JD\\product_category_match\\.venv\\Lib\\site-packages\\tqdm\\auto.py:21: TqdmWarning: IProgress not found. Please update jupyter and ipywidgets. See https://ipywidgets.readthedocs.io/en/stable/user_install.html\n",
      "  from .autonotebook import tqdm as notebook_tqdm\n"
     ]
    }
   ],
   "source": [
    "from tools import match_func as match"
   ]
  },
  {
   "cell_type": "code",
   "execution_count": 5,
   "id": "f215c569",
   "metadata": {},
   "outputs": [],
   "source": [
    "import yaml\n",
    "with open(\"config.yaml\", \"r\", encoding=\"utf-8\") as f:\n",
    "    config = yaml.safe_load(f)"
   ]
  },
  {
   "cell_type": "code",
   "execution_count": 6,
   "id": "afc356a6",
   "metadata": {},
   "outputs": [
    {
     "data": {
      "text/plain": [
       "{'flex': 0,\n",
       " 'input_file': 'fileexample.xlsx',\n",
       " 'file_cols': ['cate1', 'cate2', 'cate3', 'cate4', 'sku_name'],\n",
       " 'consider_sku_name': 1,\n",
       " 'sku_cate_num': 4,\n",
       " 'trans_file': 0,\n",
       " 'target_file': 'cate.xlsx',\n",
       " 'cate_cols': ['cate1', 'cate2', 'cate3', 'cate4'],\n",
       " 'cate_main_num': 4,\n",
       " 'trans_cate': 0}"
      ]
     },
     "execution_count": 6,
     "metadata": {},
     "output_type": "execute_result"
    }
   ],
   "source": [
    "config"
   ]
  },
  {
   "cell_type": "code",
   "execution_count": 19,
   "id": "6b1a9c30",
   "metadata": {},
   "outputs": [],
   "source": [
    "BASE_DIR = Path().resolve()\n",
    "os.chdir(BASE_DIR)"
   ]
  },
  {
   "cell_type": "code",
   "execution_count": 27,
   "id": "1e8873d6",
   "metadata": {},
   "outputs": [],
   "source": [
    "with open(\"input_config.json\", \"r\", encoding=\"utf-8\") as f:\n",
    "    config = json.load(f)"
   ]
  },
  {
   "cell_type": "code",
   "execution_count": 45,
   "id": "e8a67ace",
   "metadata": {},
   "outputs": [],
   "source": [
    "file = pd.read_excel('input_data/'+config['target_file'], dtype=str)"
   ]
  },
  {
   "cell_type": "code",
   "execution_count": 47,
   "id": "15bff8b9",
   "metadata": {},
   "outputs": [],
   "source": [
    "file.rename(columns={'Level1 Category':'cate1', 'Level2 Category':'cate2', 'Level3 Category':'cate3', 'Level4 Category':'cate4'}, inplace=True)"
   ]
  },
  {
   "cell_type": "code",
   "execution_count": 4,
   "id": "bd15ffe7",
   "metadata": {},
   "outputs": [
    {
     "data": {
      "text/plain": [
       "'erqerqwerqe5w455'"
      ]
     },
     "execution_count": 4,
     "metadata": {},
     "output_type": "execute_result"
    }
   ],
   "source": [
    "match.translate('erqerqwerqe5w455')"
   ]
  }
 ],
 "metadata": {
  "kernelspec": {
   "display_name": ".venv",
   "language": "python",
   "name": "python3"
  },
  "language_info": {
   "codemirror_mode": {
    "name": "ipython",
    "version": 3
   },
   "file_extension": ".py",
   "mimetype": "text/x-python",
   "name": "python",
   "nbconvert_exporter": "python",
   "pygments_lexer": "ipython3",
   "version": "3.12.10"
  }
 },
 "nbformat": 4,
 "nbformat_minor": 5
}
